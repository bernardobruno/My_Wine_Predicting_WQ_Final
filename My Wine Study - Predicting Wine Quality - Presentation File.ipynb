{
 "cells": [
  {
   "cell_type": "markdown",
   "metadata": {},
   "source": [
    "# Vinho Verde - Wine Dataset Predicting Wine Quality \n",
    "### My dataframe - Wines\n",
    "#### Machine Learning - Predicting Wine Type (High, Low, Medium)"
   ]
  },
  {
   "cell_type": "code",
   "execution_count": 1,
   "metadata": {},
   "outputs": [],
   "source": [
    "# Set up my wine dataset - My DataFrame\n",
    "\n",
    "import numpy as np\n",
    "import pandas as pd\n",
    "import matplotlib.pyplot as plt\n",
    "import seaborn as sns\n",
    "import pandas as pd\n",
    "import numpy as np\n",
    "import matplotlib.pyplot as plt\n",
    "from sklearn.model_selection import train_test_split\n",
    "from collections import Counter\n",
    "from sklearn.preprocessing import StandardScaler\n",
    "from sklearn.preprocessing import LabelEncoder"
   ]
  },
  {
   "cell_type": "code",
   "execution_count": 2,
   "metadata": {},
   "outputs": [],
   "source": [
    "RW_df = pd.read_csv('winequality-red.csv', delimiter = ';')\n",
    "WW_df = pd.read_csv('winequality-white.csv', delimiter = ';')"
   ]
  },
  {
   "cell_type": "code",
   "execution_count": 3,
   "metadata": {},
   "outputs": [],
   "source": [
    "WW_df['type'] = 'White Wine'\n",
    "RW_df['type'] = 'Red Wine'"
   ]
  },
  {
   "cell_type": "code",
   "execution_count": 4,
   "metadata": {},
   "outputs": [],
   "source": [
    "df_wines = pd.concat([WW_df, RW_df])"
   ]
  },
  {
   "cell_type": "code",
   "execution_count": 5,
   "metadata": {},
   "outputs": [],
   "source": [
    "def label(x):\n",
    "    if (x == 8) or (x == 9) or (x == 7)  :\n",
    "        return 'High'\n",
    "    \n",
    "    elif x in [5, 6]:\n",
    "        return 'Medium'\n",
    "    else:\n",
    "        return 'Low'"
   ]
  },
  {
   "cell_type": "code",
   "execution_count": 6,
   "metadata": {},
   "outputs": [],
   "source": [
    "df_wines['quality_label'] = df_wines['quality'].apply(lambda x: label(x))"
   ]
  },
  {
   "cell_type": "code",
   "execution_count": 7,
   "metadata": {},
   "outputs": [
    {
     "data": {
      "text/plain": [
       "Medium    4974\n",
       "High      1277\n",
       "Low        246\n",
       "Name: quality_label, dtype: int64"
      ]
     },
     "execution_count": 7,
     "metadata": {},
     "output_type": "execute_result"
    }
   ],
   "source": [
    "df_wines['quality_label'].value_counts()"
   ]
  },
  {
   "cell_type": "code",
   "execution_count": null,
   "metadata": {},
   "outputs": [],
   "source": []
  },
  {
   "cell_type": "code",
   "execution_count": null,
   "metadata": {},
   "outputs": [],
   "source": [
    "# Quality levels:\n",
    "\n",
    "                # Medium : 5 or 6 \n",
    "               \n",
    "               # High : 7, 8 or 9\n",
    "        \n",
    "              # Low : 4 or lower "
   ]
  },
  {
   "cell_type": "code",
   "execution_count": null,
   "metadata": {},
   "outputs": [],
   "source": []
  },
  {
   "cell_type": "markdown",
   "metadata": {},
   "source": [
    "### Preprocessing"
   ]
  },
  {
   "cell_type": "code",
   "execution_count": 8,
   "metadata": {},
   "outputs": [
    {
     "name": "stdout",
     "output_type": "stream",
     "text": [
      "Counter({'Medium': 3472, 'High': 898, 'Low': 177}) Counter({'Medium': 1502, 'High': 379, 'Low': 69})\n",
      "Features: ['fixed acidity', 'volatile acidity', 'citric acid', 'residual sugar', 'chlorides', 'free sulfur dioxide', 'total sulfur dioxide', 'density', 'pH', 'sulphates', 'alcohol']\n"
     ]
    }
   ],
   "source": [
    "wqp_features = df_wines.iloc[:,:-3] # X\n",
    "\n",
    "wqp_class_labels = np.array(df_wines['quality_label']) # y\n",
    "\n",
    "wqp_label_names = ['Low', 'Medium', 'High'] \n",
    "\n",
    "wqp_feature_names = list(wqp_features.columns)\n",
    "\n",
    "# Splitting into train and test. We need to separate out the prediction class in train and test set. \n",
    "\n",
    "# Here the test size is 30%.\n",
    "\n",
    "wqp_train_X, wqp_test_X, wqp_train_y, wqp_test_y = train_test_split(wqp_features,\n",
    "wqp_class_labels, test_size=0.3, random_state=42)\n",
    "\n",
    "print(Counter(wqp_train_y), Counter(wqp_test_y))\n",
    "\n",
    "print('Features:', wqp_feature_names)"
   ]
  },
  {
   "cell_type": "code",
   "execution_count": 9,
   "metadata": {},
   "outputs": [],
   "source": [
    "# Define the scaler\n",
    "\n",
    "wqp_ss = StandardScaler().fit(wqp_train_X)\n",
    "\n",
    "# Scale the train set\n",
    "\n",
    "wqp_train_SX = wqp_ss.transform(wqp_train_X)\n",
    "\n",
    "# Scale the test set\n",
    "\n",
    "wqp_test_SX = wqp_ss.transform(wqp_test_X)"
   ]
  },
  {
   "cell_type": "code",
   "execution_count": 10,
   "metadata": {},
   "outputs": [],
   "source": [
    "le = LabelEncoder() \n",
    "\n",
    "df_wines['quality_label'] = le.fit_transform(df_wines['quality_label'])"
   ]
  },
  {
   "cell_type": "code",
   "execution_count": 11,
   "metadata": {},
   "outputs": [
    {
     "data": {
      "text/plain": [
       "2    4974\n",
       "0    1277\n",
       "1     246\n",
       "Name: quality_label, dtype: int64"
      ]
     },
     "execution_count": 11,
     "metadata": {},
     "output_type": "execute_result"
    }
   ],
   "source": [
    "df_wines['quality_label'].value_counts()"
   ]
  },
  {
   "cell_type": "code",
   "execution_count": 12,
   "metadata": {},
   "outputs": [],
   "source": [
    "# ---"
   ]
  },
  {
   "cell_type": "markdown",
   "metadata": {},
   "source": [
    "### Modelling"
   ]
  },
  {
   "cell_type": "markdown",
   "metadata": {},
   "source": [
    "#### 1-) Decision Tree - Using the LMS codes"
   ]
  },
  {
   "cell_type": "code",
   "execution_count": 13,
   "metadata": {},
   "outputs": [],
   "source": [
    "# train the model\n",
    "\n",
    "from sklearn.tree import DecisionTreeClassifier\n",
    "\n",
    "from sklearn.metrics import classification_report"
   ]
  },
  {
   "cell_type": "code",
   "execution_count": 14,
   "metadata": {},
   "outputs": [
    {
     "data": {
      "text/plain": [
       "DecisionTreeClassifier()"
      ]
     },
     "execution_count": 14,
     "metadata": {},
     "output_type": "execute_result"
    }
   ],
   "source": [
    "\n",
    "wqp_dt = DecisionTreeClassifier()\n",
    "\n",
    "wqp_dt.fit(wqp_train_SX, wqp_train_y)\n"
   ]
  },
  {
   "cell_type": "code",
   "execution_count": 15,
   "metadata": {},
   "outputs": [
    {
     "name": "stdout",
     "output_type": "stream",
     "text": [
      "              precision    recall  f1-score   support\n",
      "\n",
      "         Low       0.59      0.59      0.59       379\n",
      "      Medium       0.24      0.29      0.26        69\n",
      "        High       0.87      0.86      0.87      1502\n",
      "\n",
      "    accuracy                           0.79      1950\n",
      "   macro avg       0.56      0.58      0.57      1950\n",
      "weighted avg       0.79      0.79      0.79      1950\n",
      "\n"
     ]
    }
   ],
   "source": [
    "# predict and evaluate performance\n",
    "\n",
    "wqp_dt_predictions = wqp_dt.predict(wqp_test_SX)\n",
    "\n",
    "print(classification_report(wqp_test_y,wqp_dt_predictions, target_names=wqp_label_names))"
   ]
  },
  {
   "cell_type": "code",
   "execution_count": 16,
   "metadata": {},
   "outputs": [],
   "source": [
    "# Cohen's Kappa \n",
    "\n",
    "from sklearn.metrics import cohen_kappa_score\n"
   ]
  },
  {
   "cell_type": "code",
   "execution_count": 17,
   "metadata": {},
   "outputs": [
    {
     "data": {
      "text/plain": [
       "0.4335840656616273"
      ]
     },
     "execution_count": 17,
     "metadata": {},
     "output_type": "execute_result"
    }
   ],
   "source": [
    "cohen_kappa_score(wqp_test_y,wqp_dt_predictions)"
   ]
  },
  {
   "cell_type": "code",
   "execution_count": 18,
   "metadata": {},
   "outputs": [],
   "source": [
    "# ---"
   ]
  },
  {
   "cell_type": "markdown",
   "metadata": {},
   "source": [
    "#### 2-) Random Forest"
   ]
  },
  {
   "cell_type": "code",
   "execution_count": 19,
   "metadata": {},
   "outputs": [],
   "source": [
    "from sklearn.ensemble import RandomForestClassifier"
   ]
  },
  {
   "cell_type": "code",
   "execution_count": 20,
   "metadata": {},
   "outputs": [],
   "source": [
    "wqp_rf = RandomForestClassifier(random_state=1)"
   ]
  },
  {
   "cell_type": "code",
   "execution_count": 21,
   "metadata": {},
   "outputs": [
    {
     "data": {
      "text/plain": [
       "RandomForestClassifier(random_state=1)"
      ]
     },
     "execution_count": 21,
     "metadata": {},
     "output_type": "execute_result"
    }
   ],
   "source": [
    "# Fitting the model\n",
    "\n",
    "wqp_rf.fit(wqp_train_SX, wqp_train_y)"
   ]
  },
  {
   "cell_type": "code",
   "execution_count": 22,
   "metadata": {},
   "outputs": [
    {
     "name": "stdout",
     "output_type": "stream",
     "text": [
      "              precision    recall  f1-score   support\n",
      "\n",
      "         Low       0.79      0.55      0.65       379\n",
      "      Medium       0.75      0.09      0.16        69\n",
      "        High       0.86      0.96      0.91      1502\n",
      "\n",
      "    accuracy                           0.85      1950\n",
      "   macro avg       0.80      0.53      0.57      1950\n",
      "weighted avg       0.84      0.85      0.83      1950\n",
      "\n"
     ]
    }
   ],
   "source": [
    "# predict and evaluate performance\n",
    "\n",
    "wqp_rf_predictions = wqp_rf.predict(wqp_test_SX)\n",
    "\n",
    "print(classification_report(wqp_test_y,wqp_rf_predictions, target_names=wqp_label_names))"
   ]
  },
  {
   "cell_type": "code",
   "execution_count": 23,
   "metadata": {},
   "outputs": [
    {
     "data": {
      "text/plain": [
       "0.5255883262289847"
      ]
     },
     "execution_count": 23,
     "metadata": {},
     "output_type": "execute_result"
    }
   ],
   "source": [
    "cohen_kappa_score(wqp_test_y,wqp_rf_predictions)"
   ]
  },
  {
   "cell_type": "code",
   "execution_count": 105,
   "metadata": {},
   "outputs": [
    {
     "data": {
      "image/png": "[encoded data removed]",
      "text/plain": [
       "<Figure size 432x288 with 1 Axes>"
      ]
     },
     "metadata": {
      "needs_background": "light"
     },
     "output_type": "display_data"
    }
   ],
   "source": [
    "#  feature importance scores based on the patterns learned by the model.\n",
    "\n",
    "wqp_rf_feature_importances = wqp_rf.feature_importances_\n",
    "wqp_rf_feature_names, wqp_rf_feature_scores = zip(*sorted(zip(wqp_feature_names,\n",
    "wqp_rf_feature_importances), key=lambda x: x[1]))\n",
    "y_position = list(range(len(wqp_rf_feature_names)))\n",
    "plt.barh(y_position, wqp_rf_feature_scores, height=0.6, align='center')\n",
    "plt.yticks(y_position , wqp_rf_feature_names)\n",
    "plt.xlabel('Relative Importance')\n",
    "plt.ylabel('Feature')\n",
    "t = plt.title('Feature Importances for Random Forest')"
   ]
  },
  {
   "cell_type": "code",
   "execution_count": 76,
   "metadata": {},
   "outputs": [],
   "source": [
    "# ---"
   ]
  },
  {
   "cell_type": "markdown",
   "metadata": {},
   "source": [
    "#### 3-) Trying to implement AdaBoost"
   ]
  },
  {
   "cell_type": "code",
   "execution_count": 96,
   "metadata": {},
   "outputs": [],
   "source": [
    "\n",
    "from sklearn.ensemble import AdaBoostClassifier\n"
   ]
  },
  {
   "cell_type": "code",
   "execution_count": 97,
   "metadata": {},
   "outputs": [],
   "source": [
    "model3 = AdaBoostClassifier(random_state=1)"
   ]
  },
  {
   "cell_type": "code",
   "execution_count": 98,
   "metadata": {},
   "outputs": [
    {
     "data": {
      "text/plain": [
       "AdaBoostClassifier(random_state=1)"
      ]
     },
     "execution_count": 98,
     "metadata": {},
     "output_type": "execute_result"
    }
   ],
   "source": [
    "model3.fit(wqp_train_SX, wqp_train_y)"
   ]
  },
  {
   "cell_type": "code",
   "execution_count": 99,
   "metadata": {},
   "outputs": [],
   "source": [
    "y_pred3 = model3.predict(wqp_test_SX)"
   ]
  },
  {
   "cell_type": "code",
   "execution_count": 100,
   "metadata": {},
   "outputs": [
    {
     "name": "stdout",
     "output_type": "stream",
     "text": [
      "              precision    recall  f1-score   support\n",
      "\n",
      "        High       0.47      0.35      0.40       379\n",
      "         Low       0.35      0.12      0.17        69\n",
      "      Medium       0.82      0.89      0.85      1502\n",
      "\n",
      "    accuracy                           0.76      1950\n",
      "   macro avg       0.55      0.45      0.48      1950\n",
      "weighted avg       0.73      0.76      0.74      1950\n",
      "\n"
     ]
    }
   ],
   "source": [
    "print(classification_report(wqp_test_y, y_pred3))"
   ]
  },
  {
   "cell_type": "code",
   "execution_count": 95,
   "metadata": {},
   "outputs": [],
   "source": [
    "# ---"
   ]
  },
  {
   "cell_type": "markdown",
   "metadata": {},
   "source": [
    "#### 4-) Trying to implement XGBoost"
   ]
  },
  {
   "cell_type": "code",
   "execution_count": 87,
   "metadata": {},
   "outputs": [],
   "source": [
    "import xgboost as xgb"
   ]
  },
  {
   "cell_type": "code",
   "execution_count": 88,
   "metadata": {},
   "outputs": [],
   "source": [
    "model4 = xgb.XGBClassifier(random_state=1)"
   ]
  },
  {
   "cell_type": "code",
   "execution_count": 103,
   "metadata": {},
   "outputs": [
    {
     "name": "stdout",
     "output_type": "stream",
     "text": [
      "[13:42:45] WARNING: /opt/concourse/worker/volumes/live/7a2b9f41-3287-451b-6691-43e9a6c0910f/volume/xgboost-split_1619728204606/work/src/learner.cc:1061: Starting in XGBoost 1.3.0, the default evaluation metric used with the objective 'multi:softprob' was changed from 'merror' to 'mlogloss'. Explicitly set eval_metric if you'd like to restore the old behavior.\n",
      "              precision    recall  f1-score   support\n",
      "\n",
      "        High       0.75      0.56      0.64       379\n",
      "         Low       0.39      0.13      0.20        69\n",
      "      Medium       0.86      0.94      0.90      1502\n",
      "\n",
      "    accuracy                           0.84      1950\n",
      "   macro avg       0.67      0.55      0.58      1950\n",
      "weighted avg       0.82      0.84      0.83      1950\n",
      "\n"
     ]
    }
   ],
   "source": [
    "model4.fit(wqp_train_SX, wqp_train_y)\n",
    "\n",
    "y_pred4 = model4.predict(wqp_test_SX)\n",
    "\n",
    "print(classification_report(wqp_test_y, y_pred4))"
   ]
  },
  {
   "cell_type": "code",
   "execution_count": 104,
   "metadata": {},
   "outputs": [],
   "source": [
    "# ---"
   ]
  },
  {
   "cell_type": "code",
   "execution_count": null,
   "metadata": {},
   "outputs": [],
   "source": []
  }
 ],
 "metadata": {
  "kernelspec": {
   "display_name": "Python 3",
   "language": "python",
   "name": "python3"
  },
  "language_info": {
   "codemirror_mode": {
    "name": "ipython",
    "version": 3
   },
   "file_extension": ".py",
   "mimetype": "text/x-python",
   "name": "python",
   "nbconvert_exporter": "python",
   "pygments_lexer": "ipython3",
   "version": "3.8.5"
  }
 },
 "nbformat": 4,
 "nbformat_minor": 4
}
